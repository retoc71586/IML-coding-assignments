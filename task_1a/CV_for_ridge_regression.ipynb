{
 "cells": [
  {
   "cell_type": "markdown",
   "metadata": {
    "collapsed": true,
    "pycharm": {
     "name": "#%% md\n"
    }
   },
   "source": []
  },
  {
   "cell_type": "code",
   "execution_count": 81,
   "outputs": [],
   "source": [
    "import numpy as np\n",
    "import pandas as pd\n",
    "from sklearn.metrics import mean_squared_error\n",
    "from sklearn import linear_model\n",
    "from sklearn.model_selection import KFold\n",
    "from sklearn.linear_model import RidgeCV\n"
   ],
   "metadata": {
    "collapsed": false,
    "pycharm": {
     "name": "#%%\n"
    }
   }
  },
  {
   "cell_type": "code",
   "execution_count": 82,
   "outputs": [],
   "source": [
    "train_data = pd.read_csv('train.csv')\n",
    "y = train_data['y'].to_numpy()\n",
    "X = train_data.iloc[:, 1:].to_numpy()"
   ],
   "metadata": {
    "collapsed": false,
    "pycharm": {
     "name": "#%%\n"
    }
   }
  },
  {
   "cell_type": "markdown",
   "source": [
    "### Parameters for cross validation"
   ],
   "metadata": {
    "collapsed": false,
    "pycharm": {
     "name": "#%% md\n"
    }
   }
  },
  {
   "cell_type": "code",
   "execution_count": 83,
   "outputs": [],
   "source": [
    "lambda_vec = np.array([0.1,1,10,100,200])#### lambda vector\n",
    "number_folds = 10 #### Cross-validation folds\n",
    "rand_seed = 40"
   ],
   "metadata": {
    "collapsed": false,
    "pycharm": {
     "name": "#%%\n"
    }
   }
  },
  {
   "cell_type": "markdown",
   "source": [
    "### Ridge CV"
   ],
   "metadata": {
    "collapsed": false
   }
  },
  {
   "cell_type": "code",
   "execution_count": 84,
   "outputs": [],
   "source": [
    "# clf = RidgeCV(lambda_vec, cv = 10).fit(X_train, y_train)\n",
    "# Non funziona perchè non ritorna il MSE se non uso LOOCV"
   ],
   "metadata": {
    "collapsed": false,
    "pycharm": {
     "name": "#%%\n"
    }
   }
  },
  {
   "cell_type": "code",
   "execution_count": 85,
   "outputs": [
    {
     "name": "stdout",
     "output_type": "stream",
     "text": [
      "0    5.145742\n",
      "1    5.389418\n",
      "2    5.468390\n",
      "3    5.604724\n",
      "4    5.741282\n",
      "dtype: float64\n"
     ]
    }
   ],
   "source": [
    "# TO DO :\n",
    "# calculate weights with the closed form for ridge regression\n",
    "\n",
    "# 1. iteratively split the date in K = 10 foldes\n",
    "# K-fold cross-validation through sklearn\n",
    "kfolds_class = KFold(number_folds, shuffle=True, random_state=rand_seed)\n",
    "RMSE_4_lambda = []\n",
    "# 2. do ridge regression with iteratively different lambdas\n",
    "for lbd in lambda_vec :\n",
    "    RMSE_list = []\n",
    "    regression_class = linear_model.Ridge(alpha=lbd,solver='auto',random_state=rand_seed)\n",
    "    for train_index, test_index in kfolds_class.split(X):\n",
    "        X_train, X_validation = X[train_index], X[test_index] #se do ad una matrice un array, seleziono le righe corrispondenti ad ogni elemento\n",
    "        y_train, y_validation = y[train_index], y[test_index]\n",
    "        regression_class.fit(X_train,y_train)\n",
    "        pred_label = regression_class.predict(X_validation)\n",
    "        #print(\"prediction labels\", pred_label)\n",
    "        #print(\"validation error\", y_validation)\n",
    "        RMSE_list.append(mean_squared_error(pred_label, y_validation)**0.5)\n",
    "    RMSE_list = np.array(RMSE_list)\n",
    "    RMSE_4_lambda.append(np.average(RMSE_list))\n",
    "RMSE_4_lambda = np.array(RMSE_4_lambda)\n",
    "### Submission processing\n",
    "all_rmse = pd.Series(RMSE_4_lambda)\n",
    "print(all_rmse)\n",
    "all_rmse.to_csv('solution.csv', header=False, index=False)"
   ],
   "metadata": {
    "collapsed": false,
    "pycharm": {
     "name": "#%%\n"
    }
   }
  }
 ],
 "metadata": {
  "kernelspec": {
   "display_name": "Python 3",
   "language": "python",
   "name": "python3"
  },
  "language_info": {
   "codemirror_mode": {
    "name": "ipython",
    "version": 2
   },
   "file_extension": ".py",
   "mimetype": "text/x-python",
   "name": "python",
   "nbconvert_exporter": "python",
   "pygments_lexer": "ipython2",
   "version": "2.7.6"
  }
 },
 "nbformat": 4,
 "nbformat_minor": 0
}